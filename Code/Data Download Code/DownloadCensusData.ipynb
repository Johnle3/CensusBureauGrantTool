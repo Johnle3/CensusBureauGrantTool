{
 "cells": [
  {
   "cell_type": "code",
   "execution_count": 3,
   "metadata": {},
   "outputs": [
    {
     "name": "stdout",
     "output_type": "stream",
     "text": [
      "Module imported successfully and downloader instantiated.\n"
     ]
    }
   ],
   "source": [
    "import sys\n",
    "import os\n",
    "import json\n",
    "\n",
    "# Load configuration file from its relative location\n",
    "config_path = os.path.join(\"..\", \"Dash App Creation Code\", \"config.json\")\n",
    "with open(config_path, \"r\") as f:\n",
    "    config = json.load(f)\n",
    "\n",
    "# Get the base directory and repository subpath from the config\n",
    "base_dir = config.get(\"base_dir\")\n",
    "census_repo_subpath = config.get(\"census_repo_path\", \"census-data-downloader\")  # default value if key is missing\n",
    "\n",
    "# Construct the full repository path\n",
    "repo_path = os.path.join(base_dir, census_repo_subpath)\n",
    "\n",
    "# Add the repository path to PYTHONPATH if it's not already included\n",
    "if repo_path not in sys.path:\n",
    "    sys.path.insert(0, repo_path)\n",
    "\n",
    "# Now import the desired module from the census_data_downloader package\n",
    "from census_data_downloader.tables import MedianHouseholdIncomeBlackDownloader\n",
    "\n",
    "# Test by instantiating the downloader (replace with your own logic as needed)\n",
    "api_key = \"153dc3f657f105086762a09bff43a7f6248d16fb\"\n",
    "downloader = MedianHouseholdIncomeBlackDownloader(api_key)\n",
    "print(\"Module imported successfully and downloader instantiated.\")\n"
   ]
  },
  {
   "cell_type": "code",
   "execution_count": 5,
   "metadata": {},
   "outputs": [],
   "source": [
    "from census_data_downloader.tables import MedianHouseholdIncomeBlackDownloader\n",
    "\n",
    "# Specify a supported year explicitly (e.g., 2017)\n",
    "downloader = MedianHouseholdIncomeBlackDownloader(\"153dc3f657f105086762a09bff43a7f6248d16fb\", years=2017)\n",
    "downloader.download_states()\n"
   ]
  },
  {
   "cell_type": "code",
   "execution_count": 8,
   "metadata": {},
   "outputs": [
    {
     "name": "stdout",
     "output_type": "stream",
     "text": [
      "   geoid         name   median  median_annotation  median_moe  \\\n",
      "0     28  Mississippi  28347.0                NaN       541.0   \n",
      "1     29     Missouri  34948.0                NaN       622.0   \n",
      "2     30      Montana  31352.0                NaN      9140.0   \n",
      "3     31     Nebraska  31523.0                NaN      1230.0   \n",
      "4     32       Nevada  38846.0                NaN      1352.0   \n",
      "\n",
      "   median_moe_annotation  state  \n",
      "0                    NaN     28  \n",
      "1                    NaN     29  \n",
      "2                    NaN     30  \n",
      "3                    NaN     31  \n",
      "4                    NaN     32  \n"
     ]
    }
   ],
   "source": [
    "import os\n",
    "import json\n",
    "import pandas as pd\n",
    "\n",
    "# Load configuration file (adjust the relative path if necessary)\n",
    "config_path = os.path.join(\"..\", \"Dash App Creation Code\", \"config.json\")\n",
    "with open(config_path, \"r\") as f:\n",
    "    config = json.load(f)\n",
    "\n",
    "# Get the base directory and census repository subpath from the configuration\n",
    "base_dir = config[\"base_dir\"]\n",
    "census_repo_path = config.get(\"census_repo_path\", \"census-data-downloader\")\n",
    "\n",
    "# Construct the relative path to the CSV file within the repository\n",
    "csv_subpath = os.path.join(\"census_data_downloader\", \"data\", \"processed\", \"acs5_2017_medianhouseholdincomeblack_states.csv\")\n",
    "\n",
    "# Build the full CSV file path\n",
    "csv_file_path = os.path.join(base_dir, census_repo_path, csv_subpath)\n",
    "\n",
    "# Read the CSV file into a DataFrame\n",
    "df = pd.read_csv(csv_file_path)\n",
    "\n",
    "# Display the first few rows of the DataFrame\n",
    "print(df.head())\n"
   ]
  }
 ],
 "metadata": {
  "kernelspec": {
   "display_name": "base",
   "language": "python",
   "name": "python3"
  },
  "language_info": {
   "codemirror_mode": {
    "name": "ipython",
    "version": 3
   },
   "file_extension": ".py",
   "mimetype": "text/x-python",
   "name": "python",
   "nbconvert_exporter": "python",
   "pygments_lexer": "ipython3",
   "version": "3.8.8"
  }
 },
 "nbformat": 4,
 "nbformat_minor": 2
}
