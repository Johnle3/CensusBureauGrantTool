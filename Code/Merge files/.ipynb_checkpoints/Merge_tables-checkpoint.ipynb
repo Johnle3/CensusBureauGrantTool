{
 "cells": [
  {
   "cell_type": "code",
   "execution_count": 8,
   "id": "4545f710",
   "metadata": {},
   "outputs": [
    {
     "name": "stderr",
     "output_type": "stream",
     "text": [
      "/tmp/ipykernel_23105/1519158944.py:11: DtypeWarning: Columns (1,34) have mixed types. Specify dtype option on import or set low_memory=False.\n",
      "  health = pd.read_csv(\"/data/discover/Data/Output/health_and_nutrition_measures_final_output.csv\",\n"
     ]
    }
   ],
   "source": [
    "import pandas as pd\n",
    "\n",
    "#load in general data\n",
    "general = pd.read_csv(\"/data/discover/Data/Output/general_measures.csv\",\n",
    "                     dtype={'year':str,'state_fips': object,'county_fips':object,\n",
    "                            'tract_fips':object,'GEO_ID':str,'area_type':str,'Geo_name':str})\n",
    "#load in housing data\n",
    "housing = pd.read_csv(\"/data/discover/Data/Output/Housing_trans_infra_measures.csv\",\n",
    "                     dtype={'year':str,'state_fips': object,'county_fips':object,'tract_fips':object,'GEO_ID':str})\n",
    "#load in general data\n",
    "health = pd.read_csv(\"/data/discover/Data/Output/health_and_nutrition_measures_final_output.csv\",\n",
    "                     dtype={'year':str,'state_fips': object,'county_fips':object,'tract_fips':object,'GEO_ID':str})\n",
    "\n",
    "#outer merge general and housing data\n",
    "general_housing = general.merge(housing,\n",
    "                                on=['GEO_ID','year','area_type'],\n",
    "                                how='outer')\n",
    "\n",
    "#outer merge general_housing and health data\n",
    "general_housing_health = general_housing.merge(health,\n",
    "                                on=['GEO_ID','year','area_type'],\n",
    "                                how='outer')\n",
    "\n",
    "#drops columns duplicated in merge\n",
    "general_housing_health.drop(columns=['county_fips_x',\n",
    "                                    'county_fips_y',\n",
    "                                    'Geo_name_x',\n",
    "                                    'Geo_name_y',\n",
    "                                    'state_fips_x',\n",
    "                                    'state_fips_y',\n",
    "                                    'tract_fips_x',\n",
    "                                    'tract_fips_y',\n",
    "                                    'blockgroup_fip_x',\n",
    "                                    'blockgroup_fip_y',\n",
    "                                    'Unnamed: 0'], axis=1, inplace=True)\n",
    "\n",
    "#output to csv\n",
    "general_housing_health.to_csv(\"/data/discover/Data/Output/final_table.csv\", header=True, index=False)"
   ]
  },
  {
   "cell_type": "code",
   "execution_count": null,
   "id": "732102e9",
   "metadata": {},
   "outputs": [],
   "source": [
    "#'state_fips','county_fips','tract_fips','area_type'"
   ]
  }
 ],
 "metadata": {
  "kernelspec": {
   "display_name": "Python 3 (ipykernel)",
   "language": "python",
   "name": "python3"
  },
  "language_info": {
   "codemirror_mode": {
    "name": "ipython",
    "version": 3
   },
   "file_extension": ".py",
   "mimetype": "text/x-python",
   "name": "python",
   "nbconvert_exporter": "python",
   "pygments_lexer": "ipython3",
   "version": "3.9.18"
  }
 },
 "nbformat": 4,
 "nbformat_minor": 5
}
