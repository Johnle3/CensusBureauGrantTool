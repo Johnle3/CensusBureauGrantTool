{
 "cells": [
  {
   "cell_type": "code",
   "execution_count": 5,
   "id": "112b174d",
   "metadata": {},
   "outputs": [
    {
     "name": "stdout",
     "output_type": "stream",
     "text": [
      "<bound method NDFrame.head of        AgencyCode                                 AgencyName  \\\n",
      "0          DOS-SA  Bureau of South and Central Asian Affairs   \n",
      "1         DOI-FWS                  Fish and Wildlife Service   \n",
      "2         DOI-FWS                  Fish and Wildlife Service   \n",
      "3         DOI-FWS                  Fish and Wildlife Service   \n",
      "4       DOI-USGS1                          Geological Survey   \n",
      "...           ...                                        ...   \n",
      "101910    DOI-BOR                      Bureau of Reclamation   \n",
      "101911    DOI-BOR                      Bureau of Reclamation   \n",
      "101912  USAID-UGA                       Uganda USAID-Kampala   \n",
      "101913    DOI-NPS                      National Park Service   \n",
      "101914    DOI-NPS                      National Park Service   \n",
      "\n",
      "       CategoryOfFundingActivity.Element:Text  ExpectedNumberOfAwards  \\\n",
      "0                                           O                     1.0   \n",
      "1                                          AG                     NaN   \n",
      "2                                         ENV                     NaN   \n",
      "3                                          NR                     NaN   \n",
      "4                                          ST                     1.0   \n",
      "...                                       ...                     ...   \n",
      "101910                                    ENV                     1.0   \n",
      "101911                                     NR                     1.0   \n",
      "101912                                     ED                     1.0   \n",
      "101913                                     ED                     NaN   \n",
      "101914                                     NR                     NaN   \n",
      "\n",
      "                                              Description  \n",
      "0       The Office of Press and Public Diplomacy of th...  \n",
      "1       Funds under this award are to be used for the ...  \n",
      "2       Funds under this award are to be used for the ...  \n",
      "3       Funds under this award are to be used for the ...  \n",
      "4       The USGS Southeast Ecological Science Center s...  \n",
      "...                                                   ...  \n",
      "101910  To provide financial assistance, through grant...  \n",
      "101911  To provide financial assistance, through grant...  \n",
      "101912  Literacy Program is a 5-year program to improv...  \n",
      "101913  The Chesapeake and Ohio Canal NHP is launching...  \n",
      "101914  The Chesapeake and Ohio Canal NHP is launching...  \n",
      "\n",
      "[101915 rows x 5 columns]>\n"
     ]
    }
   ],
   "source": [
    "#Read in Grants.gov XML file\n",
    "\n",
    "import pandas as pd\n",
    "df = pd.read_excel(\"Grants.xlsx\")\n",
    "#print(df.head)\n",
    "\n",
    "#Create a duplicate with select columns\n",
    "\n",
    "skinny_df=df[['AgencyCode','AgencyName','CategoryOfFundingActivity.Element:Text','ExpectedNumberOfAwards','Description']]\n",
    "print(skinny_df.head)\n",
    "\n",
    "#Create a duplicate of the duplicate for testing purposes\n",
    "\n",
    "all=skinny_df"
   ]
  },
  {
   "cell_type": "code",
   "execution_count": 9,
   "id": "68c2d7f7",
   "metadata": {},
   "outputs": [
    {
     "name": "stdout",
     "output_type": "stream",
     "text": [
      "True    41\n",
      "Name: Index, dtype: int64\n"
     ]
    },
    {
     "name": "stderr",
     "output_type": "stream",
     "text": [
      "/tmp/ipykernel_83881/1204623084.py:3: SettingWithCopyWarning: \n",
      "A value is trying to be set on a copy of a slice from a DataFrame.\n",
      "Try using .loc[row_indexer,col_indexer] = value instead\n",
      "\n",
      "See the caveats in the documentation: https://pandas.pydata.org/pandas-docs/stable/user_guide/indexing.html#returning-a-view-versus-a-copy\n",
      "  all['Index']=all['Description'].str.contains('|'.join(['lead hazard','lead pipe','lead paint']),case=False)\n"
     ]
    }
   ],
   "source": [
    "#Add additional characteristics\n",
    "\n",
    "all['Index']=all['Description'].str.contains('|'.join(['lead hazard','lead pipe','lead paint']),case=False)\n",
    "subset=all[all['Index']>0]\n",
    "subsetcount=subset['Index'].value_counts()\n",
    "print(subsetcount)"
   ]
  },
  {
   "cell_type": "code",
   "execution_count": null,
   "id": "1f22778e",
   "metadata": {
    "scrolled": true
   },
   "outputs": [],
   "source": [
    "# Create indicators for different characteristics\n",
    "\n",
    "all['Veteran']=all['Description'].str.contains(\"veteran\",case=False)\n",
    "all['Child']=all['Description'].str.contains(\"child\",case=False)\n",
    "all['Elder']=all['Description'].str.contains(\"elder\",case=False)\n",
    "all['Senior']=all['Description'].str.contains(\"senior\",case=False)\n",
    "all['Immigrant']=all['Description'].str.contains(\"immigrant\",case=False)\n",
    "all['Race']=all['Description'].str.contains(\"race\",case=False)\n",
    "all['Ethnicity']=all['Description'].str.contains(\"ethnic\",case=False)\n",
    "all['Income']=all['Description'].str.contains(\"low-income\",case=False)\n",
    "all['Poverty']=all['Description'].str.contains(\"poverty\",case=False)\n",
    "all['Disability']=all['Description'].str.contains(\"disability\",case=False)\n",
    "\n",
    "#Create data sets for each characteristic\n",
    "vet=all[all['Veteran']>0]\n",
    "child=all[all['Child']>0]\n",
    "elder=all[all['Elder']>0]\n",
    "senior=all[all['Senior']>0]\n",
    "immigrant=all[all['Immigrant']>0]\n",
    "race=all[all['Race']>0]\n",
    "ethnicity=all[all['Ethnicity']>0]\n",
    "income=all[all['Income']>0]\n",
    "poverty=all[all['Poverty']>0]\n",
    "disability=all[all['Disability']>0]\n",
    "\n",
    "#Get a count of grants mentioning that characteristic in the Description column\n",
    "vetcount=vet['Veteran'].value_counts()\n",
    "childcount=child['Child'].value_counts()\n",
    "eldercount=elder['Elder'].value_counts()\n",
    "seniorcount=senior['Senior'].value_counts()\n",
    "immigrantcount=immigrant['Immigrant'].value_counts()\n",
    "racecount=race['Race'].value_counts()\n",
    "ethnicitycount=ethnicity['Ethnicity'].value_counts()\n",
    "incomecount=income['Income'].value_counts()\n",
    "povertycount=poverty['Poverty'].value_counts()\n",
    "disabilitycount=disability['Disability'].value_counts()\n",
    "\n",
    "#Print counts\n",
    "print(vetcount)\n",
    "print(childcount)\n",
    "print(eldercount)\n",
    "print(seniorcount)\n",
    "print(immigrantcount)\n",
    "print(racecount)\n",
    "print(ethnicitycount)\n",
    "print(incomecount)\n",
    "print(povertycount)\n",
    "print(disabilitycount)"
   ]
  },
  {
   "cell_type": "code",
   "execution_count": null,
   "id": "8c12e903",
   "metadata": {},
   "outputs": [],
   "source": [
    "#Add additional characteristics\n",
    "\n",
    "all['Vote']=all['Description'].str.contains(\"non-English\",case=False)\n",
    "vote=all[all['Vote']>0]\n",
    "votecount=vote['Vote'].value_counts()\n",
    "print(votecount)"
   ]
  },
  {
   "cell_type": "code",
   "execution_count": 3,
   "id": "7a675ecc",
   "metadata": {},
   "outputs": [
    {
     "name": "stdout",
     "output_type": "stream",
     "text": [
      "True    1365\n",
      "Name: Veteran, dtype: int64\n"
     ]
    },
    {
     "name": "stderr",
     "output_type": "stream",
     "text": [
      "/tmp/ipykernel_63882/2076356740.py:1: SettingWithCopyWarning: \n",
      "A value is trying to be set on a copy of a slice from a DataFrame.\n",
      "Try using .loc[row_indexer,col_indexer] = value instead\n",
      "\n",
      "See the caveats in the documentation: https://pandas.pydata.org/pandas-docs/stable/user_guide/indexing.html#returning-a-view-versus-a-copy\n",
      "  all['Veteran']=all['Description'].str.contains(\"veteran\",case=False)\n"
     ]
    }
   ],
   "source": [
    "all['Veteran']=all['Description'].str.contains(\"veteran\",case=False)\n",
    "Veteran=all[all['Veteran']>0]\n",
    "Veterancount=Veteran['Veteran'].value_counts()\n",
    "print(Veterancount)"
   ]
  },
  {
   "cell_type": "code",
   "execution_count": 4,
   "id": "df9380f2",
   "metadata": {},
   "outputs": [
    {
     "name": "stdout",
     "output_type": "stream",
     "text": [
      "True    104\n",
      "Name: Military, dtype: int64\n"
     ]
    },
    {
     "name": "stderr",
     "output_type": "stream",
     "text": [
      "/tmp/ipykernel_63882/1615055288.py:1: SettingWithCopyWarning: \n",
      "A value is trying to be set on a copy of a slice from a DataFrame.\n",
      "Try using .loc[row_indexer,col_indexer] = value instead\n",
      "\n",
      "See the caveats in the documentation: https://pandas.pydata.org/pandas-docs/stable/user_guide/indexing.html#returning-a-view-versus-a-copy\n",
      "  all['Military']=all['Description'].str.contains(\"military personnel\",case=False)\n"
     ]
    }
   ],
   "source": [
    "all['Military']=all['Description'].str.contains(\"military personnel\",case=False)\n",
    "military=all[all['Military']>0]\n",
    "militarycount=military['Military'].value_counts()\n",
    "print(militarycount)"
   ]
  },
  {
   "cell_type": "code",
   "execution_count": 5,
   "id": "e273519f",
   "metadata": {},
   "outputs": [
    {
     "name": "stdout",
     "output_type": "stream",
     "text": [
      "True    13\n",
      "Name: MilCom, dtype: int64\n"
     ]
    },
    {
     "name": "stderr",
     "output_type": "stream",
     "text": [
      "/tmp/ipykernel_63882/979895154.py:1: SettingWithCopyWarning: \n",
      "A value is trying to be set on a copy of a slice from a DataFrame.\n",
      "Try using .loc[row_indexer,col_indexer] = value instead\n",
      "\n",
      "See the caveats in the documentation: https://pandas.pydata.org/pandas-docs/stable/user_guide/indexing.html#returning-a-view-versus-a-copy\n",
      "  all['MilCom']=all['Description'].str.contains(\"military community\",case=False)\n"
     ]
    }
   ],
   "source": [
    "all['MilCom']=all['Description'].str.contains(\"military community\",case=False)\n",
    "military=all[all['MilCom']>0]\n",
    "militarycount=military['MilCom'].value_counts()\n",
    "print(militarycount)"
   ]
  },
  {
   "cell_type": "code",
   "execution_count": 7,
   "id": "08642240",
   "metadata": {},
   "outputs": [
    {
     "name": "stdout",
     "output_type": "stream",
     "text": [
      "True    99\n",
      "Name: Milfam, dtype: int64\n"
     ]
    },
    {
     "name": "stderr",
     "output_type": "stream",
     "text": [
      "/tmp/ipykernel_63882/1699923103.py:1: SettingWithCopyWarning: \n",
      "A value is trying to be set on a copy of a slice from a DataFrame.\n",
      "Try using .loc[row_indexer,col_indexer] = value instead\n",
      "\n",
      "See the caveats in the documentation: https://pandas.pydata.org/pandas-docs/stable/user_guide/indexing.html#returning-a-view-versus-a-copy\n",
      "  all['Milfam']=all['Description'].str.contains(\"military family\",case=False)\n"
     ]
    }
   ],
   "source": [
    "all['Milfam']=all['Description'].str.contains(\"military family\",case=False)\n",
    "military=all[all['Milfam']>0]\n",
    "militarycount=military['Milfam'].value_counts()\n",
    "print(militarycount)"
   ]
  },
  {
   "cell_type": "code",
   "execution_count": 6,
   "id": "39907588",
   "metadata": {},
   "outputs": [
    {
     "name": "stdout",
     "output_type": "stream",
     "text": [
      "True    523\n",
      "Name: Service, dtype: int64\n"
     ]
    },
    {
     "name": "stderr",
     "output_type": "stream",
     "text": [
      "/tmp/ipykernel_63882/1228647333.py:1: SettingWithCopyWarning: \n",
      "A value is trying to be set on a copy of a slice from a DataFrame.\n",
      "Try using .loc[row_indexer,col_indexer] = value instead\n",
      "\n",
      "See the caveats in the documentation: https://pandas.pydata.org/pandas-docs/stable/user_guide/indexing.html#returning-a-view-versus-a-copy\n",
      "  all['Service']=all['Description'].str.contains(\"service member\",case=False)\n"
     ]
    }
   ],
   "source": [
    "all['Service']=all['Description'].str.contains(\"service member\",case=False)\n",
    "military=all[all['Service']>0]\n",
    "militarycount=military['Service'].value_counts()\n",
    "print(militarycount)"
   ]
  },
  {
   "cell_type": "code",
   "execution_count": 21,
   "id": "ac3c452c",
   "metadata": {
    "scrolled": true
   },
   "outputs": [
    {
     "name": "stdout",
     "output_type": "stream",
     "text": [
      "True    43\n",
      "Name: MilHouse, dtype: int64\n"
     ]
    },
    {
     "name": "stderr",
     "output_type": "stream",
     "text": [
      "/tmp/ipykernel_63882/2453575874.py:1: SettingWithCopyWarning: \n",
      "A value is trying to be set on a copy of a slice from a DataFrame.\n",
      "Try using .loc[row_indexer,col_indexer] = value instead\n",
      "\n",
      "See the caveats in the documentation: https://pandas.pydata.org/pandas-docs/stable/user_guide/indexing.html#returning-a-view-versus-a-copy\n",
      "  all['MilHouse']=all['Description'].str.contains(\"military treatment\",case=False)\n"
     ]
    }
   ],
   "source": [
    "all['MilHouse']=all['Description'].str.contains(\"military treatment\",case=False)\n",
    "military=all[all['MilHouse']>0]\n",
    "militarycount=military['MilHouse'].value_counts()\n",
    "print(militarycount)"
   ]
  },
  {
   "cell_type": "code",
   "execution_count": 18,
   "id": "de394c99",
   "metadata": {},
   "outputs": [
    {
     "name": "stdout",
     "output_type": "stream",
     "text": [
      "1491\n",
      "101915\n"
     ]
    }
   ],
   "source": [
    "vetall=all[(all['Veteran']>0) | (all['Military']>0) | (all['MilCom']>0) | (all['Milfam']>0) | (all['Service']>0)]\n",
    "print(len(vetall))\n",
    "vetallcount=vetall['CategoryOfFundingActivity.Element:Text'].value_counts()\n",
    "#print(vetallcount)\n",
    "print(len(all))"
   ]
  },
  {
   "cell_type": "code",
   "execution_count": 22,
   "id": "12ff0f20",
   "metadata": {
    "scrolled": true
   },
   "outputs": [
    {
     "name": "stdout",
     "output_type": "stream",
     "text": [
      "True    226\n",
      "Name: Health Ins, dtype: int64\n"
     ]
    },
    {
     "name": "stderr",
     "output_type": "stream",
     "text": [
      "/tmp/ipykernel_63882/2990326586.py:1: SettingWithCopyWarning: \n",
      "A value is trying to be set on a copy of a slice from a DataFrame.\n",
      "Try using .loc[row_indexer,col_indexer] = value instead\n",
      "\n",
      "See the caveats in the documentation: https://pandas.pydata.org/pandas-docs/stable/user_guide/indexing.html#returning-a-view-versus-a-copy\n",
      "  all['Health Ins']=all['Description'].str.contains(\"health insurance\",case=False)\n"
     ]
    }
   ],
   "source": [
    "all['Health Ins']=all['Description'].str.contains(\"health insurance\",case=False)\n",
    "military=all[all['Health Ins']>0]\n",
    "militarycount=military['Health Ins'].value_counts()\n",
    "print(militarycount)"
   ]
  },
  {
   "cell_type": "code",
   "execution_count": 23,
   "id": "f5d1874a",
   "metadata": {
    "scrolled": true
   },
   "outputs": [
    {
     "name": "stdout",
     "output_type": "stream",
     "text": [
      "True    1280\n",
      "Name: Healthcare, dtype: int64\n"
     ]
    },
    {
     "name": "stderr",
     "output_type": "stream",
     "text": [
      "/tmp/ipykernel_63882/1023605688.py:1: SettingWithCopyWarning: \n",
      "A value is trying to be set on a copy of a slice from a DataFrame.\n",
      "Try using .loc[row_indexer,col_indexer] = value instead\n",
      "\n",
      "See the caveats in the documentation: https://pandas.pydata.org/pandas-docs/stable/user_guide/indexing.html#returning-a-view-versus-a-copy\n",
      "  all['Healthcare']=all['Description'].str.contains(\"Healthcare\",case=False)\n"
     ]
    }
   ],
   "source": [
    "all['Healthcare']=all['Description'].str.contains(\"Healthcare\",case=False)\n",
    "military=all[all['Healthcare']>0]\n",
    "militarycount=military['Healthcare'].value_counts()\n",
    "print(militarycount)"
   ]
  },
  {
   "cell_type": "code",
   "execution_count": 24,
   "id": "989d5a37",
   "metadata": {
    "scrolled": true
   },
   "outputs": [
    {
     "name": "stdout",
     "output_type": "stream",
     "text": [
      "True    36\n",
      "Name: Health coverage, dtype: int64\n"
     ]
    },
    {
     "name": "stderr",
     "output_type": "stream",
     "text": [
      "/tmp/ipykernel_63882/220917396.py:1: SettingWithCopyWarning: \n",
      "A value is trying to be set on a copy of a slice from a DataFrame.\n",
      "Try using .loc[row_indexer,col_indexer] = value instead\n",
      "\n",
      "See the caveats in the documentation: https://pandas.pydata.org/pandas-docs/stable/user_guide/indexing.html#returning-a-view-versus-a-copy\n",
      "  all['Health coverage']=all['Description'].str.contains(\"Health coverage\",case=False)\n"
     ]
    }
   ],
   "source": [
    "all['Health coverage']=all['Description'].str.contains(\"Health coverage\",case=False)\n",
    "military=all[all['Health coverage']>0]\n",
    "militarycount=military['Health coverage'].value_counts()\n",
    "print(militarycount)"
   ]
  },
  {
   "cell_type": "code",
   "execution_count": 26,
   "id": "03448d10",
   "metadata": {
    "scrolled": true
   },
   "outputs": [
    {
     "name": "stdout",
     "output_type": "stream",
     "text": [
      "True    45\n",
      "Name: non-English, dtype: int64\n"
     ]
    },
    {
     "name": "stderr",
     "output_type": "stream",
     "text": [
      "/tmp/ipykernel_63882/1511918183.py:1: SettingWithCopyWarning: \n",
      "A value is trying to be set on a copy of a slice from a DataFrame.\n",
      "Try using .loc[row_indexer,col_indexer] = value instead\n",
      "\n",
      "See the caveats in the documentation: https://pandas.pydata.org/pandas-docs/stable/user_guide/indexing.html#returning-a-view-versus-a-copy\n",
      "  all['non-English']=all['Description'].str.contains(\"non-English\",case=False)\n"
     ]
    }
   ],
   "source": [
    "all['non-English']=all['Description'].str.contains(\"non-English\",case=False)\n",
    "military=all[all['non-English']>0]\n",
    "militarycount=military['non-English'].value_counts()\n",
    "print(militarycount)"
   ]
  },
  {
   "cell_type": "code",
   "execution_count": 27,
   "id": "e7614625",
   "metadata": {
    "scrolled": true
   },
   "outputs": [
    {
     "name": "stdout",
     "output_type": "stream",
     "text": [
      "True    153\n",
      "Name: Lang Learn, dtype: int64\n"
     ]
    },
    {
     "name": "stderr",
     "output_type": "stream",
     "text": [
      "/tmp/ipykernel_63882/2787683434.py:1: SettingWithCopyWarning: \n",
      "A value is trying to be set on a copy of a slice from a DataFrame.\n",
      "Try using .loc[row_indexer,col_indexer] = value instead\n",
      "\n",
      "See the caveats in the documentation: https://pandas.pydata.org/pandas-docs/stable/user_guide/indexing.html#returning-a-view-versus-a-copy\n",
      "  all['Lang Learn']=all['Description'].str.contains(\"Language Learn\",case=False)\n"
     ]
    }
   ],
   "source": [
    "all['Lang Learn']=all['Description'].str.contains(\"Language Learn\",case=False)\n",
    "military=all[all['Lang Learn']>0]\n",
    "militarycount=military['Lang Learn'].value_counts()\n",
    "print(militarycount)"
   ]
  },
  {
   "cell_type": "code",
   "execution_count": 35,
   "id": "edec0707",
   "metadata": {
    "scrolled": true
   },
   "outputs": [
    {
     "name": "stdout",
     "output_type": "stream",
     "text": [
      "True    5\n",
      "Name: Lang, dtype: int64\n"
     ]
    },
    {
     "name": "stderr",
     "output_type": "stream",
     "text": [
      "/tmp/ipykernel_63882/1148105011.py:1: SettingWithCopyWarning: \n",
      "A value is trying to be set on a copy of a slice from a DataFrame.\n",
      "Try using .loc[row_indexer,col_indexer] = value instead\n",
      "\n",
      "See the caveats in the documentation: https://pandas.pydata.org/pandas-docs/stable/user_guide/indexing.html#returning-a-view-versus-a-copy\n",
      "  all['Lang']=all['Description'].str.contains(\"not English speaking\",case=False)\n"
     ]
    }
   ],
   "source": [
    "all['Lang']=all['Description'].str.contains(\"not English speaking\",case=False)\n",
    "military=all[all['Lang']>0]\n",
    "militarycount=military['Lang'].value_counts()\n",
    "print(militarycount)"
   ]
  },
  {
   "cell_type": "code",
   "execution_count": 36,
   "id": "38cb1436",
   "metadata": {
    "scrolled": true
   },
   "outputs": [
    {
     "name": "stdout",
     "output_type": "stream",
     "text": [
      "True    181\n",
      "Name: Immigrant, dtype: int64\n"
     ]
    },
    {
     "name": "stderr",
     "output_type": "stream",
     "text": [
      "/tmp/ipykernel_63882/3305979656.py:1: SettingWithCopyWarning: \n",
      "A value is trying to be set on a copy of a slice from a DataFrame.\n",
      "Try using .loc[row_indexer,col_indexer] = value instead\n",
      "\n",
      "See the caveats in the documentation: https://pandas.pydata.org/pandas-docs/stable/user_guide/indexing.html#returning-a-view-versus-a-copy\n",
      "  all['Immigrant']=all['Description'].str.contains(\"Immigrant\",case=False)\n"
     ]
    }
   ],
   "source": [
    "all['Immigrant']=all['Description'].str.contains(\"Immigrant\",case=False)\n",
    "military=all[all['Immigrant']>0]\n",
    "militarycount=military['Immigrant'].value_counts()\n",
    "print(militarycount)"
   ]
  },
  {
   "cell_type": "code",
   "execution_count": 37,
   "id": "77b77ac0",
   "metadata": {
    "scrolled": true
   },
   "outputs": [
    {
     "name": "stdout",
     "output_type": "stream",
     "text": [
      "True    639\n",
      "Name: Refugee, dtype: int64\n"
     ]
    },
    {
     "name": "stderr",
     "output_type": "stream",
     "text": [
      "/tmp/ipykernel_63882/2147576866.py:1: SettingWithCopyWarning: \n",
      "A value is trying to be set on a copy of a slice from a DataFrame.\n",
      "Try using .loc[row_indexer,col_indexer] = value instead\n",
      "\n",
      "See the caveats in the documentation: https://pandas.pydata.org/pandas-docs/stable/user_guide/indexing.html#returning-a-view-versus-a-copy\n",
      "  all['Refugee']=all['Description'].str.contains(\"Refugee\",case=False)\n"
     ]
    }
   ],
   "source": [
    "all['Refugee']=all['Description'].str.contains(\"Refugee\",case=False)\n",
    "military=all[all['Refugee']>0]\n",
    "militarycount=military['Refugee'].value_counts()\n",
    "print(militarycount)"
   ]
  },
  {
   "cell_type": "code",
   "execution_count": 38,
   "id": "58a6a265",
   "metadata": {},
   "outputs": [
    {
     "name": "stdout",
     "output_type": "stream",
     "text": [
      "980\n"
     ]
    }
   ],
   "source": [
    "healthinsall=all[(all['non-English']>0) | (all['Lang Learn']>0) | (all['Lang']>0) | (all['Immigrant']>0) | (all['Refugee']>0)]\n",
    "print(len(healthinsall))"
   ]
  },
  {
   "cell_type": "code",
   "execution_count": 41,
   "id": "7de7e5de",
   "metadata": {
    "scrolled": true
   },
   "outputs": [
    {
     "name": "stdout",
     "output_type": "stream",
     "text": [
      "True    127\n",
      "Name: Employ, dtype: int64\n"
     ]
    },
    {
     "name": "stderr",
     "output_type": "stream",
     "text": [
      "/tmp/ipykernel_63882/2548804333.py:1: SettingWithCopyWarning: \n",
      "A value is trying to be set on a copy of a slice from a DataFrame.\n",
      "Try using .loc[row_indexer,col_indexer] = value instead\n",
      "\n",
      "See the caveats in the documentation: https://pandas.pydata.org/pandas-docs/stable/user_guide/indexing.html#returning-a-view-versus-a-copy\n",
      "  all['Employ']=all['Description'].str.contains(\"Unemployment\",case=False)\n"
     ]
    }
   ],
   "source": [
    "all['Employ']=all['Description'].str.contains(\"Unemployment\",case=False)\n",
    "military=all[all['Employ']>0]\n",
    "militarycount=military['Employ'].value_counts()\n",
    "print(militarycount)"
   ]
  },
  {
   "cell_type": "code",
   "execution_count": 40,
   "id": "a183b42d",
   "metadata": {
    "scrolled": true
   },
   "outputs": [
    {
     "name": "stdout",
     "output_type": "stream",
     "text": [
      "True    2164\n",
      "Name: Job, dtype: int64\n"
     ]
    },
    {
     "name": "stderr",
     "output_type": "stream",
     "text": [
      "/tmp/ipykernel_63882/669561915.py:1: SettingWithCopyWarning: \n",
      "A value is trying to be set on a copy of a slice from a DataFrame.\n",
      "Try using .loc[row_indexer,col_indexer] = value instead\n",
      "\n",
      "See the caveats in the documentation: https://pandas.pydata.org/pandas-docs/stable/user_guide/indexing.html#returning-a-view-versus-a-copy\n",
      "  all['Job']=all['Description'].str.contains(\"Job\",case=False)\n"
     ]
    }
   ],
   "source": [
    "all['Job']=all['Description'].str.contains(\"Job\",case=False)\n",
    "military=all[all['Job']>0]\n",
    "militarycount=military['Job'].value_counts()\n",
    "print(militarycount)"
   ]
  },
  {
   "cell_type": "code",
   "execution_count": 42,
   "id": "2e017011",
   "metadata": {
    "scrolled": true
   },
   "outputs": [
    {
     "name": "stdout",
     "output_type": "stream",
     "text": [
      "True    87\n",
      "Name: Labor, dtype: int64\n"
     ]
    },
    {
     "name": "stderr",
     "output_type": "stream",
     "text": [
      "/tmp/ipykernel_63882/3699591660.py:1: SettingWithCopyWarning: \n",
      "A value is trying to be set on a copy of a slice from a DataFrame.\n",
      "Try using .loc[row_indexer,col_indexer] = value instead\n",
      "\n",
      "See the caveats in the documentation: https://pandas.pydata.org/pandas-docs/stable/user_guide/indexing.html#returning-a-view-versus-a-copy\n",
      "  all['Labor']=all['Description'].str.contains(\"Labor force\",case=False)\n"
     ]
    }
   ],
   "source": [
    "all['Labor']=all['Description'].str.contains(\"Labor force\",case=False)\n",
    "military=all[all['Labor']>0]\n",
    "militarycount=military['Labor'].value_counts()\n",
    "print(militarycount)"
   ]
  },
  {
   "cell_type": "code",
   "execution_count": 43,
   "id": "a7d644c0",
   "metadata": {
    "scrolled": true
   },
   "outputs": [
    {
     "name": "stdout",
     "output_type": "stream",
     "text": [
      "True    1242\n",
      "Name: Worker, dtype: int64\n"
     ]
    },
    {
     "name": "stderr",
     "output_type": "stream",
     "text": [
      "/tmp/ipykernel_63882/353444792.py:1: SettingWithCopyWarning: \n",
      "A value is trying to be set on a copy of a slice from a DataFrame.\n",
      "Try using .loc[row_indexer,col_indexer] = value instead\n",
      "\n",
      "See the caveats in the documentation: https://pandas.pydata.org/pandas-docs/stable/user_guide/indexing.html#returning-a-view-versus-a-copy\n",
      "  all['Worker']=all['Description'].str.contains(\"Worker\",case=False)\n"
     ]
    }
   ],
   "source": [
    "all['Worker']=all['Description'].str.contains(\"Worker\",case=False)\n",
    "military=all[all['Worker']>0]\n",
    "militarycount=military['Worker'].value_counts()\n",
    "print(militarycount)"
   ]
  },
  {
   "cell_type": "code",
   "execution_count": 49,
   "id": "32ce1670",
   "metadata": {
    "scrolled": false
   },
   "outputs": [
    {
     "name": "stdout",
     "output_type": "stream",
     "text": [
      "True    2316\n",
      "Name: Employed, dtype: int64\n"
     ]
    },
    {
     "name": "stderr",
     "output_type": "stream",
     "text": [
      "/tmp/ipykernel_63882/856889044.py:1: SettingWithCopyWarning: \n",
      "A value is trying to be set on a copy of a slice from a DataFrame.\n",
      "Try using .loc[row_indexer,col_indexer] = value instead\n",
      "\n",
      "See the caveats in the documentation: https://pandas.pydata.org/pandas-docs/stable/user_guide/indexing.html#returning-a-view-versus-a-copy\n",
      "  all['Employed']=all['Description'].str.contains(\"Employment\",case=False)\n"
     ]
    }
   ],
   "source": [
    "all['Employed']=all['Description'].str.contains(\"Employment\",case=False)\n",
    "military=all[all['Employed']>0]\n",
    "militarycount=military['Employed'].value_counts()\n",
    "print(militarycount)"
   ]
  },
  {
   "cell_type": "code",
   "execution_count": 50,
   "id": "eb62cdc1",
   "metadata": {
    "scrolled": true
   },
   "outputs": [
    {
     "name": "stdout",
     "output_type": "stream",
     "text": [
      "4899\n"
     ]
    }
   ],
   "source": [
    "employmentall=all[(all['Employ']>0) | (all['Job']>0) | (all['Worker']>0) | (all['Labor']>0) | (all['Employed']>0)]\n",
    "print(len(employmentall))"
   ]
  },
  {
   "cell_type": "code",
   "execution_count": 51,
   "id": "2d6825d6",
   "metadata": {
    "scrolled": false
   },
   "outputs": [
    {
     "name": "stdout",
     "output_type": "stream",
     "text": [
      "True    504\n",
      "Name: Poverty, dtype: int64\n"
     ]
    },
    {
     "name": "stderr",
     "output_type": "stream",
     "text": [
      "/tmp/ipykernel_63882/3120185625.py:1: SettingWithCopyWarning: \n",
      "A value is trying to be set on a copy of a slice from a DataFrame.\n",
      "Try using .loc[row_indexer,col_indexer] = value instead\n",
      "\n",
      "See the caveats in the documentation: https://pandas.pydata.org/pandas-docs/stable/user_guide/indexing.html#returning-a-view-versus-a-copy\n",
      "  all['Poverty']=all['Description'].str.contains(\"Poverty\",case=False)\n"
     ]
    }
   ],
   "source": [
    "all['Poverty']=all['Description'].str.contains(\"Poverty\",case=False)\n",
    "military=all[all['Poverty']>0]\n",
    "militarycount=military['Poverty'].value_counts()\n",
    "print(militarycount)"
   ]
  },
  {
   "cell_type": "code",
   "execution_count": 52,
   "id": "621f1069",
   "metadata": {
    "scrolled": false
   },
   "outputs": [
    {
     "name": "stdout",
     "output_type": "stream",
     "text": [
      "True    659\n",
      "Name: Poor, dtype: int64\n"
     ]
    },
    {
     "name": "stderr",
     "output_type": "stream",
     "text": [
      "/tmp/ipykernel_63882/2984118887.py:1: SettingWithCopyWarning: \n",
      "A value is trying to be set on a copy of a slice from a DataFrame.\n",
      "Try using .loc[row_indexer,col_indexer] = value instead\n",
      "\n",
      "See the caveats in the documentation: https://pandas.pydata.org/pandas-docs/stable/user_guide/indexing.html#returning-a-view-versus-a-copy\n",
      "  all['Poor']=all['Description'].str.contains(\"Poor\",case=False)\n"
     ]
    }
   ],
   "source": [
    "all['Poor']=all['Description'].str.contains(\"Poor\",case=False)\n",
    "military=all[all['Poor']>0]\n",
    "militarycount=military['Poor'].value_counts()\n",
    "print(militarycount)"
   ]
  },
  {
   "cell_type": "code",
   "execution_count": 53,
   "id": "7dc01a44",
   "metadata": {
    "scrolled": true
   },
   "outputs": [
    {
     "name": "stdout",
     "output_type": "stream",
     "text": [
      "True    11\n",
      "Name: Impoverished, dtype: int64\n"
     ]
    },
    {
     "name": "stderr",
     "output_type": "stream",
     "text": [
      "/tmp/ipykernel_63882/1310610214.py:1: SettingWithCopyWarning: \n",
      "A value is trying to be set on a copy of a slice from a DataFrame.\n",
      "Try using .loc[row_indexer,col_indexer] = value instead\n",
      "\n",
      "See the caveats in the documentation: https://pandas.pydata.org/pandas-docs/stable/user_guide/indexing.html#returning-a-view-versus-a-copy\n",
      "  all['Impoverished']=all['Description'].str.contains(\"Impoverished\",case=False)\n"
     ]
    }
   ],
   "source": [
    "all['Impoverished']=all['Description'].str.contains(\"Impoverished\",case=False)\n",
    "military=all[all['Impoverished']>0]\n",
    "militarycount=military['Impoverished'].value_counts()\n",
    "print(militarycount)"
   ]
  },
  {
   "cell_type": "code",
   "execution_count": 54,
   "id": "12ffef6e",
   "metadata": {
    "scrolled": false
   },
   "outputs": [
    {
     "name": "stdout",
     "output_type": "stream",
     "text": [
      "1125\n"
     ]
    }
   ],
   "source": [
    "povall=all[(all['Poverty']>0) | (all['Poor']>0) | (all['Impoverished']>0)]\n",
    "print(len(povall))"
   ]
  },
  {
   "cell_type": "code",
   "execution_count": 59,
   "id": "d5fa7110",
   "metadata": {
    "scrolled": true
   },
   "outputs": [
    {
     "name": "stdout",
     "output_type": "stream",
     "text": [
      "True    2496\n",
      "Name: Pay, dtype: int64\n"
     ]
    }
   ],
   "source": [
    "all['Pay']=all['Description'].str.contains(\"Income\",case=False)\n",
    "military=all[all['Pay']>0]\n",
    "militarycount=military['Pay'].value_counts()\n",
    "print(militarycount)"
   ]
  },
  {
   "cell_type": "code",
   "execution_count": 57,
   "id": "b96590f8",
   "metadata": {
    "scrolled": true
   },
   "outputs": [
    {
     "name": "stdout",
     "output_type": "stream",
     "text": [
      "True    226\n",
      "Name: Income, dtype: int64\n"
     ]
    },
    {
     "name": "stderr",
     "output_type": "stream",
     "text": [
      "/tmp/ipykernel_63882/2262209364.py:1: SettingWithCopyWarning: \n",
      "A value is trying to be set on a copy of a slice from a DataFrame.\n",
      "Try using .loc[row_indexer,col_indexer] = value instead\n",
      "\n",
      "See the caveats in the documentation: https://pandas.pydata.org/pandas-docs/stable/user_guide/indexing.html#returning-a-view-versus-a-copy\n",
      "  all['Income']=all['Description'].str.contains(\"Low income\",case=False)\n"
     ]
    }
   ],
   "source": [
    "all['Income']=all['Description'].str.contains(\"Low income\",case=False)\n",
    "military=all[all['Income']>0]\n",
    "militarycount=military['Income'].value_counts()\n",
    "print(militarycount)"
   ]
  },
  {
   "cell_type": "code",
   "execution_count": 58,
   "id": "e3cb63c5",
   "metadata": {
    "scrolled": true
   },
   "outputs": [
    {
     "name": "stdout",
     "output_type": "stream",
     "text": [
      "True    1041\n",
      "Name: Income2, dtype: int64\n"
     ]
    },
    {
     "name": "stderr",
     "output_type": "stream",
     "text": [
      "/tmp/ipykernel_63882/4119211959.py:1: SettingWithCopyWarning: \n",
      "A value is trying to be set on a copy of a slice from a DataFrame.\n",
      "Try using .loc[row_indexer,col_indexer] = value instead\n",
      "\n",
      "See the caveats in the documentation: https://pandas.pydata.org/pandas-docs/stable/user_guide/indexing.html#returning-a-view-versus-a-copy\n",
      "  all['Income2']=all['Description'].str.contains(\"Low-income\",case=False)\n"
     ]
    }
   ],
   "source": [
    "all['Income2']=all['Description'].str.contains(\"Low-income\",case=False)\n",
    "military=all[all['Income2']>0]\n",
    "militarycount=military['Income2'].value_counts()\n",
    "print(militarycount)"
   ]
  },
  {
   "cell_type": "code",
   "execution_count": 60,
   "id": "f343679b",
   "metadata": {
    "scrolled": false
   },
   "outputs": [
    {
     "name": "stdout",
     "output_type": "stream",
     "text": [
      "2496\n"
     ]
    }
   ],
   "source": [
    "incomeall=all[(all['Income']>0) | (all['Income2']>0) | (all['Pay']>0)]\n",
    "print(len(incomeall))"
   ]
  },
  {
   "cell_type": "code",
   "execution_count": null,
   "id": "70158910",
   "metadata": {},
   "outputs": [],
   "source": [
    "all['Housing']=all['Description'].str.contains(\"housing\",case=False)\n",
    "see=all[all['Housing']>0]\n",
    "seecount=see['Housing'].value_counts()\n",
    "print(seecount)"
   ]
  },
  {
   "cell_type": "code",
   "execution_count": null,
   "id": "d7932a08",
   "metadata": {
    "scrolled": true
   },
   "outputs": [],
   "source": [
    "all['Transportation']=all['Description'].str.contains(\"transportation\",case=False)\n",
    "see=all[all['Transportation']>0]\n",
    "seecount=see['Transportation'].value_counts()\n",
    "print(seecount)"
   ]
  },
  {
   "cell_type": "code",
   "execution_count": null,
   "id": "ccaec74a",
   "metadata": {},
   "outputs": [],
   "source": [
    "all['Commuting']=all['Description'].str.contains(\"commut\",case=False)\n",
    "see=all[all['Commuting']>0]\n",
    "seecount=see['Commuting'].value_counts()\n",
    "print(seecount)"
   ]
  },
  {
   "cell_type": "code",
   "execution_count": null,
   "id": "9a75e024",
   "metadata": {},
   "outputs": [],
   "source": [
    "all['Homeless']=all['Description'].str.contains(\"homeless\",case=False)\n",
    "see=all[all['Homeless']>0]\n",
    "seecount=see['Homeless'].value_counts()\n",
    "print(seecount)"
   ]
  },
  {
   "cell_type": "code",
   "execution_count": null,
   "id": "fa99cc49",
   "metadata": {},
   "outputs": [],
   "source": [
    "all['FairHO']=all['Description'].str.contains(\"fair housing\",case=False)\n",
    "see=all[all['FairHO']>0]\n",
    "seecount=see['FairHO'].value_counts()\n",
    "print(seecount)"
   ]
  },
  {
   "cell_type": "code",
   "execution_count": null,
   "id": "7716c6b2",
   "metadata": {},
   "outputs": [],
   "source": [
    "all['Ownership']=all['Description'].str.contains(\"home ownership\",case=False)\n",
    "see=all[all['Ownership']>0]\n",
    "seecount=see['Ownership'].value_counts()\n",
    "print(seecount)"
   ]
  },
  {
   "cell_type": "code",
   "execution_count": null,
   "id": "184fe8f6",
   "metadata": {},
   "outputs": [],
   "source": [
    "all['Construction']=all['Description'].str.contains(\"Construction\",case=False)\n",
    "see=all[all['Construction']>0]\n",
    "seecount=see['Construction'].value_counts()\n",
    "print(seecount)"
   ]
  },
  {
   "cell_type": "code",
   "execution_count": null,
   "id": "7b4b0bb3",
   "metadata": {},
   "outputs": [],
   "source": [
    "all['Housing Need']=all['Description'].str.contains(\"Housing Need\",case=False)\n",
    "see=all[all['Housing Need']>0]\n",
    "seecount=see['Housing Need'].value_counts()\n",
    "print(seecount)"
   ]
  },
  {
   "cell_type": "code",
   "execution_count": null,
   "id": "d4d4d557",
   "metadata": {},
   "outputs": [],
   "source": [
    "all['Public Housing']=all['Description'].str.contains(\"Public Housing\",case=False)\n",
    "see=all[all['Public Housing']>0]\n",
    "seecount=see['Public Housing'].value_counts()\n",
    "print(seecount)"
   ]
  },
  {
   "cell_type": "code",
   "execution_count": null,
   "id": "f0189bbf",
   "metadata": {},
   "outputs": [],
   "source": [
    "all['Housing Cost']=all['Description'].str.contains(\"Housing Cost\",case=False)\n",
    "see=all[all['Housing Cost']>0]\n",
    "seecount=see['Housing Cost'].value_counts()\n",
    "print(seecount)"
   ]
  },
  {
   "cell_type": "code",
   "execution_count": null,
   "id": "d592bb4d",
   "metadata": {},
   "outputs": [],
   "source": [
    "all['Rent']=all['Description'].str.contains(\"Market Rent\",case=False)\n",
    "see=all[all['Rent']>0]\n",
    "seecount=see['Rent'].value_counts()\n",
    "print(seecount)"
   ]
  },
  {
   "cell_type": "code",
   "execution_count": null,
   "id": "16f282b4",
   "metadata": {},
   "outputs": [],
   "source": [
    "all['Affordable housing']=all['Description'].str.contains(\"Affordable housing\",case=False)\n",
    "see=all[all['Affordable housing']>0]\n",
    "seecount=see['Affordable housing'].value_counts()\n",
    "print(seecount)"
   ]
  },
  {
   "cell_type": "code",
   "execution_count": null,
   "id": "30e69ec6",
   "metadata": {},
   "outputs": [],
   "source": [
    "all['cost-burdened hous']=all['Description'].str.contains(\"cost-burdened hous\",case=False)\n",
    "see=all[all['cost-burdened hous']>0]\n",
    "seecount=see['cost-burdened hous'].value_counts()\n",
    "print(seecount)"
   ]
  },
  {
   "cell_type": "code",
   "execution_count": null,
   "id": "87590f36",
   "metadata": {},
   "outputs": [],
   "source": [
    "all['Structure built']=all['Description'].str.contains(\"Structure built\",case=False)\n",
    "see=all[all['Structure built']>0]\n",
    "seecount=see['Structure built'].value_counts()\n",
    "print(seecount)"
   ]
  },
  {
   "cell_type": "code",
   "execution_count": null,
   "id": "e19308c0",
   "metadata": {},
   "outputs": [],
   "source": [
    "all['Plumbing']=all['Description'].str.contains(\"Plumbing\",case=False)\n",
    "see=all[all['Plumbing']>0]\n",
    "seecount=see['Plumbing'].value_counts()\n",
    "print(seecount)"
   ]
  },
  {
   "cell_type": "code",
   "execution_count": null,
   "id": "908660a9",
   "metadata": {},
   "outputs": [],
   "source": [
    "all['Infrastructure']=all['Description'].str.contains(\"Infrastructure\",case=False)\n",
    "see=all[all['Infrastructure']>0]\n",
    "seecount=see['Infrastructure'].value_counts()\n",
    "print(seecount)"
   ]
  },
  {
   "cell_type": "code",
   "execution_count": null,
   "id": "b3f9b6ad",
   "metadata": {},
   "outputs": [],
   "source": [
    "all['Electric']=all['Description'].str.contains(\"Electric grid\",case=False)\n",
    "see=all[all['Electric']>0]\n",
    "seecount=see['Electric'].value_counts()\n",
    "print(seecount)"
   ]
  },
  {
   "cell_type": "code",
   "execution_count": null,
   "id": "1302da17",
   "metadata": {},
   "outputs": [],
   "source": [
    "all['Renewable Energy']=all['Description'].str.contains(\"Renewable Energy\",case=False)\n",
    "see=all[all['Renewable Energy']>0]\n",
    "seecount=see['Renewable Energy'].value_counts()\n",
    "print(seecount)"
   ]
  },
  {
   "cell_type": "code",
   "execution_count": null,
   "id": "f10e63ef",
   "metadata": {},
   "outputs": [],
   "source": [
    "all['Energy efficiency']=all['Description'].str.contains(\"Energy efficiency\",case=False)\n",
    "see=all[all['Energy efficiency']>0]\n",
    "seecount=see['Energy efficiency'].value_counts()\n",
    "print(seecount)"
   ]
  },
  {
   "cell_type": "code",
   "execution_count": null,
   "id": "4e4dccfd",
   "metadata": {},
   "outputs": [],
   "source": [
    "all['Wastewater']=all['Description'].str.contains(\"Wastewater\",case=False)\n",
    "see=all[all['Wastewater']>0]\n",
    "seecount=see['Wastewater'].value_counts()\n",
    "print(seecount)"
   ]
  },
  {
   "cell_type": "code",
   "execution_count": null,
   "id": "7ecc73c0",
   "metadata": {},
   "outputs": [],
   "source": [
    "all['Sewer']=all['Description'].str.contains(\"Sewer\",case=False)\n",
    "see=all[all['Sewer']>0]\n",
    "seecount=see['Sewer'].value_counts()\n",
    "print(seecount)"
   ]
  },
  {
   "cell_type": "code",
   "execution_count": null,
   "id": "c8511f05",
   "metadata": {},
   "outputs": [],
   "source": [
    "all['Public facilities']=all['Description'].str.contains(\"Public facilities\",case=False)\n",
    "see=all[all['Public facilities']>0]\n",
    "seecount=see['Public facilities'].value_counts()\n",
    "print(seecount)"
   ]
  },
  {
   "cell_type": "code",
   "execution_count": null,
   "id": "08212796",
   "metadata": {},
   "outputs": [],
   "source": [
    "all['Public buildings']=all['Description'].str.contains(\"Public buildings\",case=False)\n",
    "see=all[all['Public buildings']>0]\n",
    "seecount=see['Public buildings'].value_counts()\n",
    "print(seecount)"
   ]
  },
  {
   "cell_type": "code",
   "execution_count": null,
   "id": "73d46b10",
   "metadata": {},
   "outputs": [],
   "source": [
    "all['Road']=all['Description'].str.contains(\"Road\",case=False)\n",
    "see=all[all['Road']>0]\n",
    "seecount=see['Road'].value_counts()\n",
    "print(seecount)"
   ]
  },
  {
   "cell_type": "code",
   "execution_count": null,
   "id": "855f5952",
   "metadata": {},
   "outputs": [],
   "source": [
    "all['Public Transit']=all['Description'].str.contains(\"Public Transit\",case=False)\n",
    "see=all[all['Public Transit']>0]\n",
    "seecount=see['Public Transit'].value_counts()\n",
    "print(seecount)"
   ]
  },
  {
   "cell_type": "code",
   "execution_count": null,
   "id": "71f52d85",
   "metadata": {
    "scrolled": true
   },
   "outputs": [],
   "source": [
    "all['Public Transportation']=all['Description'].str.contains(\"Public Transportation\",case=False)\n",
    "see=all[all['Public Transportation']>0]\n",
    "seecount=see['Public Transportation'].value_counts()\n",
    "print(seecount)"
   ]
  },
  {
   "cell_type": "code",
   "execution_count": null,
   "id": "8a4ffbb6",
   "metadata": {
    "scrolled": true
   },
   "outputs": [],
   "source": [
    "all['Traffic']=all['Description'].str.contains(\"Traffic\",case=False)\n",
    "see=all[all['Traffic']>0]\n",
    "seecount=see['Traffic'].value_counts()\n",
    "print(seecount)"
   ]
  },
  {
   "cell_type": "code",
   "execution_count": null,
   "id": "7f99efb6",
   "metadata": {
    "scrolled": true
   },
   "outputs": [],
   "source": [
    "all['Congestion']=all['Description'].str.contains(\"Congestion\",case=False)\n",
    "see=all[all['Congestion']>0]\n",
    "seecount=see['Congestion'].value_counts()\n",
    "print(seecount)"
   ]
  },
  {
   "cell_type": "code",
   "execution_count": null,
   "id": "4c983cbe",
   "metadata": {
    "scrolled": true
   },
   "outputs": [],
   "source": [
    "all['Crash']=all['Description'].str.contains(\"Crash\",case=False)\n",
    "see=all[all['Crash']>0]\n",
    "seecount=see['Crash'].value_counts()\n",
    "print(seecount)"
   ]
  },
  {
   "cell_type": "code",
   "execution_count": null,
   "id": "e19fdc18",
   "metadata": {
    "scrolled": false
   },
   "outputs": [],
   "source": [
    "all['Accident']=all['Description'].str.contains(\"Accident\",case=False)\n",
    "see=all[all['Accident']>0]\n",
    "seecount=see['Accident'].value_counts()\n",
    "print(seecount)"
   ]
  },
  {
   "cell_type": "code",
   "execution_count": null,
   "id": "b6600782",
   "metadata": {
    "scrolled": false
   },
   "outputs": [],
   "source": [
    "all['Emissions']=all['Description'].str.contains(\"Emissions\",case=False)\n",
    "see=all[all['Emissions']>0]\n",
    "seecount=see['Emissions'].value_counts()\n",
    "print(seecount)"
   ]
  },
  {
   "cell_type": "code",
   "execution_count": null,
   "id": "f86a14d7",
   "metadata": {
    "scrolled": false
   },
   "outputs": [],
   "source": [
    "all['Air quality']=all['Description'].str.contains(\"Air quality\",case=False)\n",
    "see=all[all['Air quality']>0]\n",
    "seecount=see['Air quality'].value_counts()\n",
    "print(seecount)"
   ]
  },
  {
   "cell_type": "code",
   "execution_count": null,
   "id": "dfd1f17e",
   "metadata": {
    "scrolled": false
   },
   "outputs": [],
   "source": [
    "all['Greenhouse']=all['Description'].str.contains(\"Greenhouse\",case=False)\n",
    "see=all[all['Greenhouse']>0]\n",
    "seecount=see['Greenhouse'].value_counts()\n",
    "print(seecount)"
   ]
  },
  {
   "cell_type": "code",
   "execution_count": null,
   "id": "b9f11510",
   "metadata": {
    "scrolled": false
   },
   "outputs": [],
   "source": [
    "all['Climate change']=all['Description'].str.contains(\"Climate change\",case=False)\n",
    "see=all[all['Climate change']>0]\n",
    "seecount=see['Climate change'].value_counts()\n",
    "print(seecount)"
   ]
  },
  {
   "cell_type": "code",
   "execution_count": null,
   "id": "19f9c2b4",
   "metadata": {
    "scrolled": false
   },
   "outputs": [],
   "source": [
    "all['Bicycle']=all['Description'].str.contains(\"Bicycle\",case=False)\n",
    "see=all[all['Bicycle']>0]\n",
    "seecount=see['Bicycle'].value_counts()\n",
    "print(seecount)"
   ]
  },
  {
   "cell_type": "code",
   "execution_count": null,
   "id": "78f126f9",
   "metadata": {
    "scrolled": false
   },
   "outputs": [],
   "source": [
    "all['Bike']=all['Description'].str.contains(\"Bike\",case=False)\n",
    "see=all[all['Bike']>0]\n",
    "seecount=see['Bike'].value_counts()\n",
    "print(seecount)"
   ]
  },
  {
   "cell_type": "code",
   "execution_count": null,
   "id": "db22c2c4",
   "metadata": {
    "scrolled": true
   },
   "outputs": [],
   "source": [
    "all['Ride share']=all['Description'].str.contains(\"carpool\",case=False)\n",
    "see=all[all['Ride share']>0]\n",
    "seecount=see['Ride share'].value_counts()\n",
    "print(seecount)"
   ]
  },
  {
   "cell_type": "code",
   "execution_count": null,
   "id": "53197bad",
   "metadata": {
    "scrolled": true
   },
   "outputs": [],
   "source": [
    "all['Librar']=all['Description'].str.contains(\"Librar\",case=False)\n",
    "see=all[all['Librar']>0]\n",
    "seecount=see['Librar'].value_counts()\n",
    "print(seecount)"
   ]
  },
  {
   "cell_type": "code",
   "execution_count": null,
   "id": "f5cc76f0",
   "metadata": {
    "scrolled": true
   },
   "outputs": [],
   "source": [
    "all['Community Center']=all['Description'].str.contains(\"Community Center\",case=False)\n",
    "see=all[all['Community Center']>0]\n",
    "seecount=see['Community Center'].value_counts()\n",
    "print(seecount)"
   ]
  },
  {
   "cell_type": "code",
   "execution_count": null,
   "id": "2ab7379e",
   "metadata": {
    "scrolled": true
   },
   "outputs": [],
   "source": [
    "all['Cell phone']=all['Description'].str.contains(\"Cell phone\",case=False)\n",
    "see=all[all['Cell phone']>0]\n",
    "seecount=see['Cell phone'].value_counts()\n",
    "print(seecount)"
   ]
  },
  {
   "cell_type": "code",
   "execution_count": null,
   "id": "6ab9d6c6",
   "metadata": {
    "scrolled": true
   },
   "outputs": [],
   "source": [
    "all['Computer']=all['Description'].str.contains(\"Computer access\",case=False)\n",
    "see=all[all['Computer']>0]\n",
    "seecount=see['Computer'].value_counts()\n",
    "print(seecount)"
   ]
  },
  {
   "cell_type": "code",
   "execution_count": null,
   "id": "2cd97f5c",
   "metadata": {
    "scrolled": true
   },
   "outputs": [],
   "source": [
    "all['Broadband']=all['Description'].str.contains(\"broadband\",case=False)\n",
    "see=all[all['Broadband']>0]\n",
    "seecount=see['Broadband'].value_counts()\n",
    "print(seecount)"
   ]
  },
  {
   "cell_type": "code",
   "execution_count": null,
   "id": "cfc1641d",
   "metadata": {},
   "outputs": [],
   "source": [
    "all['Internet']=all['Description'].str.contains(\"Internet access\",case=False)\n",
    "see=all[all['Internet']>0]\n",
    "seecount=see['Internet'].value_counts()\n",
    "print(seecount)"
   ]
  },
  {
   "cell_type": "code",
   "execution_count": null,
   "id": "a7858572",
   "metadata": {},
   "outputs": [],
   "source": [
    "all['Internet']=all['Description'].str.contains(\"Internet access\",case=False)\n",
    "see=all[all['Internet']>0]\n",
    "seecount=see['Internet'].value_counts()\n",
    "print(seecount)"
   ]
  },
  {
   "cell_type": "code",
   "execution_count": null,
   "id": "b6e2a4c0",
   "metadata": {},
   "outputs": [],
   "source": [
    "all['Internet']=all['Description'].str.contains(\"Internet access\",case=False)\n",
    "see=all[all['Internet']>0]\n",
    "seecount=see['Internet'].value_counts()\n",
    "print(seecount)"
   ]
  },
  {
   "cell_type": "code",
   "execution_count": null,
   "id": "c3e98a7d",
   "metadata": {},
   "outputs": [],
   "source": [
    "all['COLUMNNAME']=all['Description'].str.contains(\"SEARCH TERM\",case=False)\n",
    "see=all[all['COLUMNNAME']>0]\n",
    "seecount=see['COLUMNNAME'].value_counts()\n",
    "print(seecount)"
   ]
  },
  {
   "cell_type": "code",
   "execution_count": null,
   "id": "3c05ddac",
   "metadata": {},
   "outputs": [],
   "source": []
  },
  {
   "cell_type": "code",
   "execution_count": null,
   "id": "64434292",
   "metadata": {},
   "outputs": [],
   "source": []
  },
  {
   "cell_type": "code",
   "execution_count": null,
   "id": "53edef35",
   "metadata": {},
   "outputs": [],
   "source": []
  },
  {
   "cell_type": "code",
   "execution_count": null,
   "id": "9719042a",
   "metadata": {},
   "outputs": [],
   "source": [
    "#Combine counts into one data set and create CSV\n",
    "\n",
    "count=pd.concat([vetcount,childcount,eldercount,seniorcount,immigrantcount,racecount,ethnicitycount,incomecount,povertycount,disabilitycount,homelesscount])\n",
    "count=pd.DataFrame(count,columns=['Count'])\n",
    "print(count)\n",
    "count.to_csv('Grant Description Populations.csv')"
   ]
  },
  {
   "cell_type": "code",
   "execution_count": null,
   "id": "09401906",
   "metadata": {
    "scrolled": true
   },
   "outputs": [],
   "source": [
    "#See the category types for HUD grants#\n",
    "\n",
    "hud=skinny_df[skinny_df['AgencyCode']=='HUD']\n",
    "hud_cat=hud['CategoryOfFundingActivity.Element:Text'].value_counts()\n",
    "print(hud_cat)"
   ]
  },
  {
   "cell_type": "code",
   "execution_count": null,
   "id": "4035c7ec",
   "metadata": {},
   "outputs": [],
   "source": [
    "hud_edcat=hud[hud['CategoryOfFundingActivity.Element:Text']=='ED']\n",
    "print(hud_edcat['Description'])\n",
    "#hud_edcat.to_csv('HUD Grant Info.csv')"
   ]
  },
  {
   "cell_type": "code",
   "execution_count": null,
   "id": "de86a773",
   "metadata": {},
   "outputs": [],
   "source": [
    "#See agencies offering Housing grants\n",
    "\n",
    "ho=skinny_df[skinny_df['CategoryOfFundingActivity.Element:Text']=='HO']\n",
    "ho_agencies=ho['AgencyName'].value_counts()\n",
    "print(ho_agencies)\n",
    "ho.to_csv('HUD Grant Info.csv')"
   ]
  },
  {
   "cell_type": "code",
   "execution_count": null,
   "id": "dfb53a14",
   "metadata": {},
   "outputs": [],
   "source": [
    "ho['Index']=ho['Description'].str.contains('fair housing',case=False)\n",
    "fh=ho[ho['Index']>0]\n",
    "fh_count=fh['CategoryOfFundingActivity.Element:Text'].value_counts()\n",
    "print(fh_count)"
   ]
  },
  {
   "cell_type": "code",
   "execution_count": null,
   "id": "68709a6f",
   "metadata": {},
   "outputs": [],
   "source": [
    "ho['Index2']=ho['Description'].str.contains('homeless',case=False)\n",
    "hl=ho[ho['Index2']>0]\n",
    "hl_count=hl['CategoryOfFundingActivity.Element:Text'].value_counts()\n",
    "print(hl_count)"
   ]
  },
  {
   "cell_type": "code",
   "execution_count": null,
   "id": "37a69b07",
   "metadata": {},
   "outputs": [],
   "source": [
    "ho['Index3']=ho['Description'].str.contains('afford',case=False)\n",
    "af=ho[ho['Index3']>0]\n",
    "af_count=af['CategoryOfFundingActivity.Element:Text'].value_counts()\n",
    "print(af_count)\n",
    "print(af['Description'])"
   ]
  },
  {
   "cell_type": "code",
   "execution_count": null,
   "id": "8d8a575f",
   "metadata": {},
   "outputs": [],
   "source": [
    "ot=ho[(ho['Index3']<0) & (ho['Index']<0) & (ho['Index2']<0)]\n",
    "ot_count=ot['CategoryOfFundingActivity.Element:Text'].value_counts()\n",
    "print(ot_count)\n"
   ]
  },
  {
   "cell_type": "code",
   "execution_count": null,
   "id": "794032a5",
   "metadata": {},
   "outputs": [],
   "source": [
    "#See agencies offering Transportation grants\n",
    "\n",
    "t=skinny_df[skinny_df['CategoryOfFundingActivity.Element:Text']=='T']\n",
    "t_agencies=t['AgencyName'].value_counts()\n",
    "print(t_agencies)\n"
   ]
  },
  {
   "cell_type": "code",
   "execution_count": null,
   "id": "53aec242",
   "metadata": {},
   "outputs": [],
   "source": [
    "\n",
    "\n",
    "en=df[df['CategoryOfFundingActivity.Element:Text']=='EN']\n",
    "env=df[df['CategoryOfFundingActivity.Element:Text']=='ENV']\n",
    "nr=df[df['CategoryOfFundingActivity.Element:Text']=='NR']\n",
    "t=df[df['CategoryOfFundingActivity.Element:Text']=='T']\n",
    "\n",
    "\n",
    "print(ho['AdditionalInformationOnEligibility'].head)"
   ]
  }
 ],
 "metadata": {
  "kernelspec": {
   "display_name": "Python 3 (ipykernel)",
   "language": "python",
   "name": "python3"
  },
  "language_info": {
   "codemirror_mode": {
    "name": "ipython",
    "version": 3
   },
   "file_extension": ".py",
   "mimetype": "text/x-python",
   "name": "python",
   "nbconvert_exporter": "python",
   "pygments_lexer": "ipython3",
   "version": "3.9.18"
  }
 },
 "nbformat": 4,
 "nbformat_minor": 5
}
